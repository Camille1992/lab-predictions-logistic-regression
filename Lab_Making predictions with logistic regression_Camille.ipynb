{
 "cells": [
  {
   "cell_type": "code",
   "execution_count": 1,
   "id": "e406d658",
   "metadata": {},
   "outputs": [],
   "source": [
    "# Lab | Making predictions with logistic regression"
   ]
  },
  {
   "cell_type": "code",
   "execution_count": 2,
   "id": "395f59be",
   "metadata": {},
   "outputs": [],
   "source": [
    "import pymysql\n",
    "from sqlalchemy import create_engine\n",
    "import pandas as pd\n",
    "import matplotlib\n",
    "import matplotlib.pyplot as plt\n",
    "import seaborn as sns\n",
    "import numpy as np\n",
    "from sklearn import metrics\n",
    "from sklearn.preprocessing import StandardScaler\n",
    "from sklearn.preprocessing import MinMaxScaler\n",
    "from sklearn.model_selection import train_test_split\n",
    "from sklearn.linear_model import LogisticRegression\n",
    "from sklearn.metrics import r2_score, mean_squared_error, mean_absolute_error\n",
    "from sklearn.metrics import confusion_matrix\n",
    "from imblearn.over_sampling import SMOTE \n",
    "from collections import Counter\n",
    "from sklearn.datasets import make_classification\n",
    "from matplotlib import pyplot\n",
    "from numpy import where\n",
    "import getpass  # To get the password without showing the input"
   ]
  },
  {
   "cell_type": "code",
   "execution_count": 3,
   "id": "c33fd527",
   "metadata": {},
   "outputs": [
    {
     "name": "stdout",
     "output_type": "stream",
     "text": [
      "········\n"
     ]
    }
   ],
   "source": [
    "%matplotlib inline\n",
    "password = getpass.getpass()\n",
    "connection_string = 'mysql+pymysql://root:' + password + '@localhost/sakila'\n",
    "engine = create_engine(connection_string)"
   ]
  },
  {
   "cell_type": "markdown",
   "id": "51bd8d34",
   "metadata": {},
   "source": [
    "## Data Collection"
   ]
  },
  {
   "cell_type": "code",
   "execution_count": 4,
   "id": "5ff986c7",
   "metadata": {},
   "outputs": [],
   "source": [
    "query = '''\n",
    "SELECT\n",
    "\tF.film_id, F.title, F.release_year, F.rental_duration, F.rental_rate, F.length, F.replacement_cost, F.rating, C.name AS category, R.number_of_rentals, DATE(D.last_rental_date) AS last_rental_date\n",
    "FROM\n",
    "\tfilm F\n",
    "    JOIN\n",
    "\t\tfilm_category FC\n",
    "\tUSING (film_id)\n",
    "    JOIN\n",
    "\t\tcategory C\n",
    "\tUSING (category_id)\n",
    "    JOIN\n",
    "\t\trental_rate R\n",
    "\tUSING (film_id)\n",
    "\tJOIN\n",
    "\t\tlast_rental D\n",
    "\tUSING (film_id)\n",
    "WHERE\n",
    "\tlast_rental_date < '2022-02-05';\n",
    "'''"
   ]
  },
  {
   "cell_type": "code",
   "execution_count": 5,
   "id": "12ddc1bf",
   "metadata": {},
   "outputs": [
    {
     "data": {
      "text/html": [
       "<div>\n",
       "<style scoped>\n",
       "    .dataframe tbody tr th:only-of-type {\n",
       "        vertical-align: middle;\n",
       "    }\n",
       "\n",
       "    .dataframe tbody tr th {\n",
       "        vertical-align: top;\n",
       "    }\n",
       "\n",
       "    .dataframe thead th {\n",
       "        text-align: right;\n",
       "    }\n",
       "</style>\n",
       "<table border=\"1\" class=\"dataframe\">\n",
       "  <thead>\n",
       "    <tr style=\"text-align: right;\">\n",
       "      <th></th>\n",
       "      <th>film_id</th>\n",
       "      <th>title</th>\n",
       "      <th>release_year</th>\n",
       "      <th>rental_duration</th>\n",
       "      <th>rental_rate</th>\n",
       "      <th>length</th>\n",
       "      <th>replacement_cost</th>\n",
       "      <th>rating</th>\n",
       "      <th>category</th>\n",
       "      <th>number_of_rentals</th>\n",
       "      <th>last_rental_date</th>\n",
       "    </tr>\n",
       "  </thead>\n",
       "  <tbody>\n",
       "    <tr>\n",
       "      <th>0</th>\n",
       "      <td>103</td>\n",
       "      <td>BUCKET BROTHERHOOD</td>\n",
       "      <td>2006</td>\n",
       "      <td>7</td>\n",
       "      <td>4.99</td>\n",
       "      <td>133</td>\n",
       "      <td>27.99</td>\n",
       "      <td>PG</td>\n",
       "      <td>Travel</td>\n",
       "      <td>34</td>\n",
       "      <td>2005-08-23</td>\n",
       "    </tr>\n",
       "    <tr>\n",
       "      <th>1</th>\n",
       "      <td>738</td>\n",
       "      <td>ROCKETEER MOTHER</td>\n",
       "      <td>2006</td>\n",
       "      <td>3</td>\n",
       "      <td>0.99</td>\n",
       "      <td>178</td>\n",
       "      <td>27.99</td>\n",
       "      <td>PG-13</td>\n",
       "      <td>Foreign</td>\n",
       "      <td>33</td>\n",
       "      <td>2005-08-23</td>\n",
       "    </tr>\n",
       "    <tr>\n",
       "      <th>2</th>\n",
       "      <td>331</td>\n",
       "      <td>FORWARD TEMPLE</td>\n",
       "      <td>2006</td>\n",
       "      <td>6</td>\n",
       "      <td>2.99</td>\n",
       "      <td>90</td>\n",
       "      <td>25.99</td>\n",
       "      <td>NC-17</td>\n",
       "      <td>Games</td>\n",
       "      <td>32</td>\n",
       "      <td>2005-08-23</td>\n",
       "    </tr>\n",
       "    <tr>\n",
       "      <th>3</th>\n",
       "      <td>382</td>\n",
       "      <td>GRIT CLOCKWORK</td>\n",
       "      <td>2006</td>\n",
       "      <td>3</td>\n",
       "      <td>0.99</td>\n",
       "      <td>137</td>\n",
       "      <td>21.99</td>\n",
       "      <td>PG</td>\n",
       "      <td>Games</td>\n",
       "      <td>32</td>\n",
       "      <td>2005-08-23</td>\n",
       "    </tr>\n",
       "    <tr>\n",
       "      <th>4</th>\n",
       "      <td>489</td>\n",
       "      <td>JUGGLER HARDLY</td>\n",
       "      <td>2006</td>\n",
       "      <td>4</td>\n",
       "      <td>0.99</td>\n",
       "      <td>54</td>\n",
       "      <td>14.99</td>\n",
       "      <td>PG-13</td>\n",
       "      <td>Animation</td>\n",
       "      <td>32</td>\n",
       "      <td>2006-02-14</td>\n",
       "    </tr>\n",
       "  </tbody>\n",
       "</table>\n",
       "</div>"
      ],
      "text/plain": [
       "   film_id               title  release_year  rental_duration  rental_rate  \\\n",
       "0      103  BUCKET BROTHERHOOD          2006                7         4.99   \n",
       "1      738    ROCKETEER MOTHER          2006                3         0.99   \n",
       "2      331      FORWARD TEMPLE          2006                6         2.99   \n",
       "3      382      GRIT CLOCKWORK          2006                3         0.99   \n",
       "4      489      JUGGLER HARDLY          2006                4         0.99   \n",
       "\n",
       "   length  replacement_cost rating   category  number_of_rentals  \\\n",
       "0     133             27.99     PG     Travel                 34   \n",
       "1     178             27.99  PG-13    Foreign                 33   \n",
       "2      90             25.99  NC-17      Games                 32   \n",
       "3     137             21.99     PG      Games                 32   \n",
       "4      54             14.99  PG-13  Animation                 32   \n",
       "\n",
       "  last_rental_date  \n",
       "0       2005-08-23  \n",
       "1       2005-08-23  \n",
       "2       2005-08-23  \n",
       "3       2005-08-23  \n",
       "4       2006-02-14  "
      ]
     },
     "execution_count": 5,
     "metadata": {},
     "output_type": "execute_result"
    }
   ],
   "source": [
    "data = pd.read_sql_query(query, engine)\n",
    "data.head()"
   ]
  },
  {
   "cell_type": "markdown",
   "id": "258f29a1",
   "metadata": {},
   "source": [
    "## Data Exploration"
   ]
  },
  {
   "cell_type": "code",
   "execution_count": 6,
   "id": "a6e06420",
   "metadata": {},
   "outputs": [
    {
     "data": {
      "text/plain": [
       "(957, 11)"
      ]
     },
     "execution_count": 6,
     "metadata": {},
     "output_type": "execute_result"
    }
   ],
   "source": [
    "data.shape"
   ]
  },
  {
   "cell_type": "code",
   "execution_count": 7,
   "id": "94244500",
   "metadata": {},
   "outputs": [
    {
     "name": "stdout",
     "output_type": "stream",
     "text": [
      "<class 'pandas.core.frame.DataFrame'>\n",
      "RangeIndex: 957 entries, 0 to 956\n",
      "Data columns (total 11 columns):\n",
      " #   Column             Non-Null Count  Dtype  \n",
      "---  ------             --------------  -----  \n",
      " 0   film_id            957 non-null    int64  \n",
      " 1   title              957 non-null    object \n",
      " 2   release_year       957 non-null    int64  \n",
      " 3   rental_duration    957 non-null    int64  \n",
      " 4   rental_rate        957 non-null    float64\n",
      " 5   length             957 non-null    int64  \n",
      " 6   replacement_cost   957 non-null    float64\n",
      " 7   rating             957 non-null    object \n",
      " 8   category           957 non-null    object \n",
      " 9   number_of_rentals  957 non-null    int64  \n",
      " 10  last_rental_date   957 non-null    object \n",
      "dtypes: float64(2), int64(5), object(4)\n",
      "memory usage: 82.4+ KB\n"
     ]
    }
   ],
   "source": [
    "data.info()"
   ]
  },
  {
   "cell_type": "code",
   "execution_count": 8,
   "id": "f41b7f6d",
   "metadata": {},
   "outputs": [
    {
     "data": {
      "text/plain": [
       "film_id              0\n",
       "title                0\n",
       "release_year         0\n",
       "rental_duration      0\n",
       "rental_rate          0\n",
       "length               0\n",
       "replacement_cost     0\n",
       "rating               0\n",
       "category             0\n",
       "number_of_rentals    0\n",
       "last_rental_date     0\n",
       "dtype: int64"
      ]
     },
     "execution_count": 8,
     "metadata": {},
     "output_type": "execute_result"
    }
   ],
   "source": [
    "data.isna().sum()"
   ]
  },
  {
   "cell_type": "code",
   "execution_count": 9,
   "id": "3cfbe7e6",
   "metadata": {},
   "outputs": [],
   "source": [
    "# We don't want NaN in number_of_rentals or last_rental_date\n",
    "for column in data.columns:\n",
    "    if column == 'number_of_rentals' or 'last_rental_date':\n",
    "        data = data[data[column].isna() == False]"
   ]
  },
  {
   "cell_type": "code",
   "execution_count": 10,
   "id": "99b950bc",
   "metadata": {},
   "outputs": [
    {
     "data": {
      "text/plain": [
       "(957, 11)"
      ]
     },
     "execution_count": 10,
     "metadata": {},
     "output_type": "execute_result"
    }
   ],
   "source": [
    "data.shape"
   ]
  },
  {
   "cell_type": "code",
   "execution_count": 11,
   "id": "c96eda98",
   "metadata": {},
   "outputs": [
    {
     "data": {
      "text/plain": [
       "count    957.000000\n",
       "mean      16.740857\n",
       "std        6.676610\n",
       "min        4.000000\n",
       "25%       11.000000\n",
       "50%       16.000000\n",
       "75%       22.000000\n",
       "max       34.000000\n",
       "Name: number_of_rentals, dtype: float64"
      ]
     },
     "execution_count": 11,
     "metadata": {},
     "output_type": "execute_result"
    }
   ],
   "source": [
    "data.number_of_rentals.describe()"
   ]
  },
  {
   "cell_type": "code",
   "execution_count": 12,
   "id": "d65af06e",
   "metadata": {},
   "outputs": [
    {
     "data": {
      "text/plain": [
       "count    957.000000\n",
       "mean       2.979551\n",
       "std        1.642752\n",
       "min        0.990000\n",
       "25%        0.990000\n",
       "50%        2.990000\n",
       "75%        4.990000\n",
       "max        4.990000\n",
       "Name: rental_rate, dtype: float64"
      ]
     },
     "execution_count": 12,
     "metadata": {},
     "output_type": "execute_result"
    }
   ],
   "source": [
    "data.rental_rate.describe()"
   ]
  },
  {
   "cell_type": "code",
   "execution_count": 13,
   "id": "74c4b582",
   "metadata": {},
   "outputs": [
    {
     "data": {
      "text/plain": [
       "array([2006], dtype=int64)"
      ]
     },
     "execution_count": 13,
     "metadata": {},
     "output_type": "execute_result"
    }
   ],
   "source": [
    "data.release_year.unique()"
   ]
  },
  {
   "cell_type": "code",
   "execution_count": 14,
   "id": "71061e21",
   "metadata": {},
   "outputs": [],
   "source": [
    "# We can drop the release year as it is a unique value\n",
    "data = data.drop(['release_year'], axis = 1)"
   ]
  },
  {
   "cell_type": "code",
   "execution_count": 15,
   "id": "66af9a18",
   "metadata": {},
   "outputs": [
    {
     "data": {
      "text/plain": [
       "PG-13    213\n",
       "NC-17    202\n",
       "R        189\n",
       "PG       182\n",
       "G        171\n",
       "Name: rating, dtype: int64"
      ]
     },
     "execution_count": 15,
     "metadata": {},
     "output_type": "execute_result"
    }
   ],
   "source": [
    "data.rating.value_counts()"
   ]
  },
  {
   "cell_type": "code",
   "execution_count": 16,
   "id": "f639cdcf",
   "metadata": {},
   "outputs": [
    {
     "data": {
      "text/plain": [
       "Sports         73\n",
       "Foreign        67\n",
       "Family         67\n",
       "Animation      64\n",
       "Documentary    62\n",
       "Drama          61\n",
       "Action         61\n",
       "New            60\n",
       "Sci-Fi         59\n",
       "Games          58\n",
       "Children       58\n",
       "Comedy         56\n",
       "Classics       54\n",
       "Travel         53\n",
       "Horror         53\n",
       "Music          51\n",
       "Name: category, dtype: int64"
      ]
     },
     "execution_count": 16,
     "metadata": {},
     "output_type": "execute_result"
    }
   ],
   "source": [
    "data.category.value_counts()"
   ]
  },
  {
   "cell_type": "code",
   "execution_count": 17,
   "id": "733b1fe2",
   "metadata": {},
   "outputs": [
    {
     "data": {
      "text/html": [
       "<div>\n",
       "<style scoped>\n",
       "    .dataframe tbody tr th:only-of-type {\n",
       "        vertical-align: middle;\n",
       "    }\n",
       "\n",
       "    .dataframe tbody tr th {\n",
       "        vertical-align: top;\n",
       "    }\n",
       "\n",
       "    .dataframe thead th {\n",
       "        text-align: right;\n",
       "    }\n",
       "</style>\n",
       "<table border=\"1\" class=\"dataframe\">\n",
       "  <thead>\n",
       "    <tr style=\"text-align: right;\">\n",
       "      <th></th>\n",
       "      <th>title</th>\n",
       "      <th>rental_duration</th>\n",
       "      <th>rental_rate</th>\n",
       "      <th>length</th>\n",
       "      <th>replacement_cost</th>\n",
       "      <th>rating</th>\n",
       "      <th>category</th>\n",
       "      <th>number_of_rentals</th>\n",
       "      <th>last_rental_date</th>\n",
       "    </tr>\n",
       "    <tr>\n",
       "      <th>film_id</th>\n",
       "      <th></th>\n",
       "      <th></th>\n",
       "      <th></th>\n",
       "      <th></th>\n",
       "      <th></th>\n",
       "      <th></th>\n",
       "      <th></th>\n",
       "      <th></th>\n",
       "      <th></th>\n",
       "    </tr>\n",
       "  </thead>\n",
       "  <tbody>\n",
       "    <tr>\n",
       "      <th>103</th>\n",
       "      <td>BUCKET BROTHERHOOD</td>\n",
       "      <td>7</td>\n",
       "      <td>4.99</td>\n",
       "      <td>133</td>\n",
       "      <td>27.99</td>\n",
       "      <td>PG</td>\n",
       "      <td>Travel</td>\n",
       "      <td>34</td>\n",
       "      <td>2005-08-23</td>\n",
       "    </tr>\n",
       "    <tr>\n",
       "      <th>738</th>\n",
       "      <td>ROCKETEER MOTHER</td>\n",
       "      <td>3</td>\n",
       "      <td>0.99</td>\n",
       "      <td>178</td>\n",
       "      <td>27.99</td>\n",
       "      <td>PG-13</td>\n",
       "      <td>Foreign</td>\n",
       "      <td>33</td>\n",
       "      <td>2005-08-23</td>\n",
       "    </tr>\n",
       "    <tr>\n",
       "      <th>331</th>\n",
       "      <td>FORWARD TEMPLE</td>\n",
       "      <td>6</td>\n",
       "      <td>2.99</td>\n",
       "      <td>90</td>\n",
       "      <td>25.99</td>\n",
       "      <td>NC-17</td>\n",
       "      <td>Games</td>\n",
       "      <td>32</td>\n",
       "      <td>2005-08-23</td>\n",
       "    </tr>\n",
       "    <tr>\n",
       "      <th>382</th>\n",
       "      <td>GRIT CLOCKWORK</td>\n",
       "      <td>3</td>\n",
       "      <td>0.99</td>\n",
       "      <td>137</td>\n",
       "      <td>21.99</td>\n",
       "      <td>PG</td>\n",
       "      <td>Games</td>\n",
       "      <td>32</td>\n",
       "      <td>2005-08-23</td>\n",
       "    </tr>\n",
       "    <tr>\n",
       "      <th>489</th>\n",
       "      <td>JUGGLER HARDLY</td>\n",
       "      <td>4</td>\n",
       "      <td>0.99</td>\n",
       "      <td>54</td>\n",
       "      <td>14.99</td>\n",
       "      <td>PG-13</td>\n",
       "      <td>Animation</td>\n",
       "      <td>32</td>\n",
       "      <td>2006-02-14</td>\n",
       "    </tr>\n",
       "  </tbody>\n",
       "</table>\n",
       "</div>"
      ],
      "text/plain": [
       "                      title  rental_duration  rental_rate  length  \\\n",
       "film_id                                                             \n",
       "103      BUCKET BROTHERHOOD                7         4.99     133   \n",
       "738        ROCKETEER MOTHER                3         0.99     178   \n",
       "331          FORWARD TEMPLE                6         2.99      90   \n",
       "382          GRIT CLOCKWORK                3         0.99     137   \n",
       "489          JUGGLER HARDLY                4         0.99      54   \n",
       "\n",
       "         replacement_cost rating   category  number_of_rentals  \\\n",
       "film_id                                                          \n",
       "103                 27.99     PG     Travel                 34   \n",
       "738                 27.99  PG-13    Foreign                 33   \n",
       "331                 25.99  NC-17      Games                 32   \n",
       "382                 21.99     PG      Games                 32   \n",
       "489                 14.99  PG-13  Animation                 32   \n",
       "\n",
       "        last_rental_date  \n",
       "film_id                   \n",
       "103           2005-08-23  \n",
       "738           2005-08-23  \n",
       "331           2005-08-23  \n",
       "382           2005-08-23  \n",
       "489           2006-02-14  "
      ]
     },
     "execution_count": 17,
     "metadata": {},
     "output_type": "execute_result"
    }
   ],
   "source": [
    "data = data.set_index('film_id')\n",
    "data.head()"
   ]
  },
  {
   "cell_type": "markdown",
   "id": "7409debc",
   "metadata": {},
   "source": [
    "## EDA"
   ]
  },
  {
   "cell_type": "code",
   "execution_count": 18,
   "id": "bfc373e6",
   "metadata": {},
   "outputs": [
    {
     "data": {
      "text/html": [
       "<div>\n",
       "<style scoped>\n",
       "    .dataframe tbody tr th:only-of-type {\n",
       "        vertical-align: middle;\n",
       "    }\n",
       "\n",
       "    .dataframe tbody tr th {\n",
       "        vertical-align: top;\n",
       "    }\n",
       "\n",
       "    .dataframe thead th {\n",
       "        text-align: right;\n",
       "    }\n",
       "</style>\n",
       "<table border=\"1\" class=\"dataframe\">\n",
       "  <thead>\n",
       "    <tr style=\"text-align: right;\">\n",
       "      <th>category</th>\n",
       "      <th>Action</th>\n",
       "      <th>Animation</th>\n",
       "      <th>Children</th>\n",
       "      <th>Classics</th>\n",
       "      <th>Comedy</th>\n",
       "      <th>Documentary</th>\n",
       "      <th>Drama</th>\n",
       "      <th>Family</th>\n",
       "      <th>Foreign</th>\n",
       "      <th>Games</th>\n",
       "      <th>Horror</th>\n",
       "      <th>Music</th>\n",
       "      <th>New</th>\n",
       "      <th>Sci-Fi</th>\n",
       "      <th>Sports</th>\n",
       "      <th>Travel</th>\n",
       "    </tr>\n",
       "    <tr>\n",
       "      <th>rating</th>\n",
       "      <th></th>\n",
       "      <th></th>\n",
       "      <th></th>\n",
       "      <th></th>\n",
       "      <th></th>\n",
       "      <th></th>\n",
       "      <th></th>\n",
       "      <th></th>\n",
       "      <th></th>\n",
       "      <th></th>\n",
       "      <th></th>\n",
       "      <th></th>\n",
       "      <th></th>\n",
       "      <th></th>\n",
       "      <th></th>\n",
       "      <th></th>\n",
       "    </tr>\n",
       "  </thead>\n",
       "  <tbody>\n",
       "    <tr>\n",
       "      <th>G</th>\n",
       "      <td>17</td>\n",
       "      <td>13</td>\n",
       "      <td>10</td>\n",
       "      <td>11</td>\n",
       "      <td>11</td>\n",
       "      <td>13</td>\n",
       "      <td>12</td>\n",
       "      <td>9</td>\n",
       "      <td>12</td>\n",
       "      <td>10</td>\n",
       "      <td>9</td>\n",
       "      <td>2</td>\n",
       "      <td>11</td>\n",
       "      <td>9</td>\n",
       "      <td>11</td>\n",
       "      <td>11</td>\n",
       "    </tr>\n",
       "    <tr>\n",
       "      <th>NC-17</th>\n",
       "      <td>11</td>\n",
       "      <td>15</td>\n",
       "      <td>12</td>\n",
       "      <td>8</td>\n",
       "      <td>10</td>\n",
       "      <td>13</td>\n",
       "      <td>15</td>\n",
       "      <td>14</td>\n",
       "      <td>10</td>\n",
       "      <td>16</td>\n",
       "      <td>7</td>\n",
       "      <td>20</td>\n",
       "      <td>18</td>\n",
       "      <td>9</td>\n",
       "      <td>16</td>\n",
       "      <td>8</td>\n",
       "    </tr>\n",
       "    <tr>\n",
       "      <th>PG</th>\n",
       "      <td>8</td>\n",
       "      <td>11</td>\n",
       "      <td>14</td>\n",
       "      <td>8</td>\n",
       "      <td>15</td>\n",
       "      <td>14</td>\n",
       "      <td>7</td>\n",
       "      <td>17</td>\n",
       "      <td>13</td>\n",
       "      <td>5</td>\n",
       "      <td>11</td>\n",
       "      <td>10</td>\n",
       "      <td>8</td>\n",
       "      <td>12</td>\n",
       "      <td>16</td>\n",
       "      <td>13</td>\n",
       "    </tr>\n",
       "    <tr>\n",
       "      <th>PG-13</th>\n",
       "      <td>11</td>\n",
       "      <td>17</td>\n",
       "      <td>13</td>\n",
       "      <td>13</td>\n",
       "      <td>12</td>\n",
       "      <td>10</td>\n",
       "      <td>21</td>\n",
       "      <td>11</td>\n",
       "      <td>19</td>\n",
       "      <td>13</td>\n",
       "      <td>13</td>\n",
       "      <td>8</td>\n",
       "      <td>14</td>\n",
       "      <td>13</td>\n",
       "      <td>14</td>\n",
       "      <td>11</td>\n",
       "    </tr>\n",
       "    <tr>\n",
       "      <th>R</th>\n",
       "      <td>14</td>\n",
       "      <td>8</td>\n",
       "      <td>9</td>\n",
       "      <td>14</td>\n",
       "      <td>8</td>\n",
       "      <td>12</td>\n",
       "      <td>6</td>\n",
       "      <td>16</td>\n",
       "      <td>13</td>\n",
       "      <td>14</td>\n",
       "      <td>13</td>\n",
       "      <td>11</td>\n",
       "      <td>9</td>\n",
       "      <td>16</td>\n",
       "      <td>16</td>\n",
       "      <td>10</td>\n",
       "    </tr>\n",
       "  </tbody>\n",
       "</table>\n",
       "</div>"
      ],
      "text/plain": [
       "category  Action  Animation  Children  Classics  Comedy  Documentary  Drama  \\\n",
       "rating                                                                        \n",
       "G             17         13        10        11      11           13     12   \n",
       "NC-17         11         15        12         8      10           13     15   \n",
       "PG             8         11        14         8      15           14      7   \n",
       "PG-13         11         17        13        13      12           10     21   \n",
       "R             14          8         9        14       8           12      6   \n",
       "\n",
       "category  Family  Foreign  Games  Horror  Music  New  Sci-Fi  Sports  Travel  \n",
       "rating                                                                        \n",
       "G              9       12     10       9      2   11       9      11      11  \n",
       "NC-17         14       10     16       7     20   18       9      16       8  \n",
       "PG            17       13      5      11     10    8      12      16      13  \n",
       "PG-13         11       19     13      13      8   14      13      14      11  \n",
       "R             16       13     14      13     11    9      16      16      10  "
      ]
     },
     "execution_count": 18,
     "metadata": {},
     "output_type": "execute_result"
    }
   ],
   "source": [
    "pd.crosstab(data.rating, data.category)\n",
    "# personally a bit worried about the ratings in the children category"
   ]
  },
  {
   "cell_type": "code",
   "execution_count": 19,
   "id": "19fabdf3",
   "metadata": {},
   "outputs": [
    {
     "data": {
      "text/html": [
       "<div>\n",
       "<style scoped>\n",
       "    .dataframe tbody tr th:only-of-type {\n",
       "        vertical-align: middle;\n",
       "    }\n",
       "\n",
       "    .dataframe tbody tr th {\n",
       "        vertical-align: top;\n",
       "    }\n",
       "\n",
       "    .dataframe thead th {\n",
       "        text-align: right;\n",
       "    }\n",
       "</style>\n",
       "<table border=\"1\" class=\"dataframe\">\n",
       "  <thead>\n",
       "    <tr style=\"text-align: right;\">\n",
       "      <th></th>\n",
       "      <th>rental_duration</th>\n",
       "      <th>rental_rate</th>\n",
       "      <th>length</th>\n",
       "      <th>replacement_cost</th>\n",
       "      <th>number_of_rentals</th>\n",
       "    </tr>\n",
       "  </thead>\n",
       "  <tbody>\n",
       "    <tr>\n",
       "      <th>rental_duration</th>\n",
       "      <td>1.000000</td>\n",
       "      <td>0.031516</td>\n",
       "      <td>0.055584</td>\n",
       "      <td>-0.002442</td>\n",
       "      <td>-0.061845</td>\n",
       "    </tr>\n",
       "    <tr>\n",
       "      <th>rental_rate</th>\n",
       "      <td>0.031516</td>\n",
       "      <td>1.000000</td>\n",
       "      <td>0.035410</td>\n",
       "      <td>-0.048027</td>\n",
       "      <td>-0.052129</td>\n",
       "    </tr>\n",
       "    <tr>\n",
       "      <th>length</th>\n",
       "      <td>0.055584</td>\n",
       "      <td>0.035410</td>\n",
       "      <td>1.000000</td>\n",
       "      <td>0.008564</td>\n",
       "      <td>-0.031544</td>\n",
       "    </tr>\n",
       "    <tr>\n",
       "      <th>replacement_cost</th>\n",
       "      <td>-0.002442</td>\n",
       "      <td>-0.048027</td>\n",
       "      <td>0.008564</td>\n",
       "      <td>1.000000</td>\n",
       "      <td>0.064318</td>\n",
       "    </tr>\n",
       "    <tr>\n",
       "      <th>number_of_rentals</th>\n",
       "      <td>-0.061845</td>\n",
       "      <td>-0.052129</td>\n",
       "      <td>-0.031544</td>\n",
       "      <td>0.064318</td>\n",
       "      <td>1.000000</td>\n",
       "    </tr>\n",
       "  </tbody>\n",
       "</table>\n",
       "</div>"
      ],
      "text/plain": [
       "                   rental_duration  rental_rate    length  replacement_cost  \\\n",
       "rental_duration           1.000000     0.031516  0.055584         -0.002442   \n",
       "rental_rate               0.031516     1.000000  0.035410         -0.048027   \n",
       "length                    0.055584     0.035410  1.000000          0.008564   \n",
       "replacement_cost         -0.002442    -0.048027  0.008564          1.000000   \n",
       "number_of_rentals        -0.061845    -0.052129 -0.031544          0.064318   \n",
       "\n",
       "                   number_of_rentals  \n",
       "rental_duration            -0.061845  \n",
       "rental_rate                -0.052129  \n",
       "length                     -0.031544  \n",
       "replacement_cost            0.064318  \n",
       "number_of_rentals           1.000000  "
      ]
     },
     "execution_count": 19,
     "metadata": {},
     "output_type": "execute_result"
    }
   ],
   "source": [
    "# Checking the correlations\n",
    "data.corr()"
   ]
  },
  {
   "cell_type": "code",
   "execution_count": 20,
   "id": "82be8c12",
   "metadata": {},
   "outputs": [
    {
     "data": {
      "image/png": "[encoded data removed]",
      "text/plain": [
       "<Figure size 360x360 with 2 Axes>"
      ]
     },
     "metadata": {
      "needs_background": "light"
     },
     "output_type": "display_data"
    }
   ],
   "source": [
    "#HEATMAP\n",
    "mask = np.zeros_like(data.corr())\n",
    "mask[np.triu_indices_from(mask)] = True\n",
    "fig, ax = plt.subplots(figsize=(5, 5))\n",
    "ax = sns.heatmap(data.corr(), mask=mask, annot=True)\n",
    "plt.show()\n",
    "# First observations\n",
    "## Data that is negatively correlated to the number of rentals: length, rental_rate and rental_duration\n",
    "## No high colinearity"
   ]
  },
  {
   "cell_type": "code",
   "execution_count": 21,
   "id": "1fe95b64",
   "metadata": {},
   "outputs": [],
   "source": [
    "# Encoding the categoricals\n",
    "def get_dummies(df):\n",
    "    cat = df.select_dtypes(object)\n",
    "    dummyfied = pd.get_dummies(cat, columns=cat.columns, drop_first=True)\n",
    "    return dummyfied"
   ]
  },
  {
   "cell_type": "code",
   "execution_count": 22,
   "id": "ac52be8f",
   "metadata": {},
   "outputs": [
    {
     "data": {
      "text/html": [
       "<div>\n",
       "<style scoped>\n",
       "    .dataframe tbody tr th:only-of-type {\n",
       "        vertical-align: middle;\n",
       "    }\n",
       "\n",
       "    .dataframe tbody tr th {\n",
       "        vertical-align: top;\n",
       "    }\n",
       "\n",
       "    .dataframe thead th {\n",
       "        text-align: right;\n",
       "    }\n",
       "</style>\n",
       "<table border=\"1\" class=\"dataframe\">\n",
       "  <thead>\n",
       "    <tr style=\"text-align: right;\">\n",
       "      <th></th>\n",
       "      <th>title_ADAPTATION HOLES</th>\n",
       "      <th>title_AFFAIR PREJUDICE</th>\n",
       "      <th>title_AFRICAN EGG</th>\n",
       "      <th>title_AGENT TRUMAN</th>\n",
       "      <th>title_AIRPLANE SIERRA</th>\n",
       "      <th>title_AIRPORT POLLOCK</th>\n",
       "      <th>title_ALABAMA DEVIL</th>\n",
       "      <th>title_ALADDIN CALENDAR</th>\n",
       "      <th>title_ALAMO VIDEOTAPE</th>\n",
       "      <th>title_ALASKA PHANTOM</th>\n",
       "      <th>...</th>\n",
       "      <th>category_Sci-Fi</th>\n",
       "      <th>category_Sports</th>\n",
       "      <th>category_Travel</th>\n",
       "      <th>last_rental_date_2005-08-18</th>\n",
       "      <th>last_rental_date_2005-08-19</th>\n",
       "      <th>last_rental_date_2005-08-20</th>\n",
       "      <th>last_rental_date_2005-08-21</th>\n",
       "      <th>last_rental_date_2005-08-22</th>\n",
       "      <th>last_rental_date_2005-08-23</th>\n",
       "      <th>last_rental_date_2006-02-14</th>\n",
       "    </tr>\n",
       "    <tr>\n",
       "      <th>film_id</th>\n",
       "      <th></th>\n",
       "      <th></th>\n",
       "      <th></th>\n",
       "      <th></th>\n",
       "      <th></th>\n",
       "      <th></th>\n",
       "      <th></th>\n",
       "      <th></th>\n",
       "      <th></th>\n",
       "      <th></th>\n",
       "      <th></th>\n",
       "      <th></th>\n",
       "      <th></th>\n",
       "      <th></th>\n",
       "      <th></th>\n",
       "      <th></th>\n",
       "      <th></th>\n",
       "      <th></th>\n",
       "      <th></th>\n",
       "      <th></th>\n",
       "      <th></th>\n",
       "    </tr>\n",
       "  </thead>\n",
       "  <tbody>\n",
       "    <tr>\n",
       "      <th>103</th>\n",
       "      <td>0</td>\n",
       "      <td>0</td>\n",
       "      <td>0</td>\n",
       "      <td>0</td>\n",
       "      <td>0</td>\n",
       "      <td>0</td>\n",
       "      <td>0</td>\n",
       "      <td>0</td>\n",
       "      <td>0</td>\n",
       "      <td>0</td>\n",
       "      <td>...</td>\n",
       "      <td>0</td>\n",
       "      <td>0</td>\n",
       "      <td>1</td>\n",
       "      <td>0</td>\n",
       "      <td>0</td>\n",
       "      <td>0</td>\n",
       "      <td>0</td>\n",
       "      <td>0</td>\n",
       "      <td>1</td>\n",
       "      <td>0</td>\n",
       "    </tr>\n",
       "    <tr>\n",
       "      <th>738</th>\n",
       "      <td>0</td>\n",
       "      <td>0</td>\n",
       "      <td>0</td>\n",
       "      <td>0</td>\n",
       "      <td>0</td>\n",
       "      <td>0</td>\n",
       "      <td>0</td>\n",
       "      <td>0</td>\n",
       "      <td>0</td>\n",
       "      <td>0</td>\n",
       "      <td>...</td>\n",
       "      <td>0</td>\n",
       "      <td>0</td>\n",
       "      <td>0</td>\n",
       "      <td>0</td>\n",
       "      <td>0</td>\n",
       "      <td>0</td>\n",
       "      <td>0</td>\n",
       "      <td>0</td>\n",
       "      <td>1</td>\n",
       "      <td>0</td>\n",
       "    </tr>\n",
       "    <tr>\n",
       "      <th>331</th>\n",
       "      <td>0</td>\n",
       "      <td>0</td>\n",
       "      <td>0</td>\n",
       "      <td>0</td>\n",
       "      <td>0</td>\n",
       "      <td>0</td>\n",
       "      <td>0</td>\n",
       "      <td>0</td>\n",
       "      <td>0</td>\n",
       "      <td>0</td>\n",
       "      <td>...</td>\n",
       "      <td>0</td>\n",
       "      <td>0</td>\n",
       "      <td>0</td>\n",
       "      <td>0</td>\n",
       "      <td>0</td>\n",
       "      <td>0</td>\n",
       "      <td>0</td>\n",
       "      <td>0</td>\n",
       "      <td>1</td>\n",
       "      <td>0</td>\n",
       "    </tr>\n",
       "    <tr>\n",
       "      <th>382</th>\n",
       "      <td>0</td>\n",
       "      <td>0</td>\n",
       "      <td>0</td>\n",
       "      <td>0</td>\n",
       "      <td>0</td>\n",
       "      <td>0</td>\n",
       "      <td>0</td>\n",
       "      <td>0</td>\n",
       "      <td>0</td>\n",
       "      <td>0</td>\n",
       "      <td>...</td>\n",
       "      <td>0</td>\n",
       "      <td>0</td>\n",
       "      <td>0</td>\n",
       "      <td>0</td>\n",
       "      <td>0</td>\n",
       "      <td>0</td>\n",
       "      <td>0</td>\n",
       "      <td>0</td>\n",
       "      <td>1</td>\n",
       "      <td>0</td>\n",
       "    </tr>\n",
       "    <tr>\n",
       "      <th>489</th>\n",
       "      <td>0</td>\n",
       "      <td>0</td>\n",
       "      <td>0</td>\n",
       "      <td>0</td>\n",
       "      <td>0</td>\n",
       "      <td>0</td>\n",
       "      <td>0</td>\n",
       "      <td>0</td>\n",
       "      <td>0</td>\n",
       "      <td>0</td>\n",
       "      <td>...</td>\n",
       "      <td>0</td>\n",
       "      <td>0</td>\n",
       "      <td>0</td>\n",
       "      <td>0</td>\n",
       "      <td>0</td>\n",
       "      <td>0</td>\n",
       "      <td>0</td>\n",
       "      <td>0</td>\n",
       "      <td>0</td>\n",
       "      <td>1</td>\n",
       "    </tr>\n",
       "  </tbody>\n",
       "</table>\n",
       "<p>5 rows × 982 columns</p>\n",
       "</div>"
      ],
      "text/plain": [
       "         title_ADAPTATION HOLES  title_AFFAIR PREJUDICE  title_AFRICAN EGG  \\\n",
       "film_id                                                                      \n",
       "103                           0                       0                  0   \n",
       "738                           0                       0                  0   \n",
       "331                           0                       0                  0   \n",
       "382                           0                       0                  0   \n",
       "489                           0                       0                  0   \n",
       "\n",
       "         title_AGENT TRUMAN  title_AIRPLANE SIERRA  title_AIRPORT POLLOCK  \\\n",
       "film_id                                                                     \n",
       "103                       0                      0                      0   \n",
       "738                       0                      0                      0   \n",
       "331                       0                      0                      0   \n",
       "382                       0                      0                      0   \n",
       "489                       0                      0                      0   \n",
       "\n",
       "         title_ALABAMA DEVIL  title_ALADDIN CALENDAR  title_ALAMO VIDEOTAPE  \\\n",
       "film_id                                                                       \n",
       "103                        0                       0                      0   \n",
       "738                        0                       0                      0   \n",
       "331                        0                       0                      0   \n",
       "382                        0                       0                      0   \n",
       "489                        0                       0                      0   \n",
       "\n",
       "         title_ALASKA PHANTOM  ...  category_Sci-Fi  category_Sports  \\\n",
       "film_id                        ...                                     \n",
       "103                         0  ...                0                0   \n",
       "738                         0  ...                0                0   \n",
       "331                         0  ...                0                0   \n",
       "382                         0  ...                0                0   \n",
       "489                         0  ...                0                0   \n",
       "\n",
       "         category_Travel  last_rental_date_2005-08-18  \\\n",
       "film_id                                                 \n",
       "103                    1                            0   \n",
       "738                    0                            0   \n",
       "331                    0                            0   \n",
       "382                    0                            0   \n",
       "489                    0                            0   \n",
       "\n",
       "         last_rental_date_2005-08-19  last_rental_date_2005-08-20  \\\n",
       "film_id                                                             \n",
       "103                                0                            0   \n",
       "738                                0                            0   \n",
       "331                                0                            0   \n",
       "382                                0                            0   \n",
       "489                                0                            0   \n",
       "\n",
       "         last_rental_date_2005-08-21  last_rental_date_2005-08-22  \\\n",
       "film_id                                                             \n",
       "103                                0                            0   \n",
       "738                                0                            0   \n",
       "331                                0                            0   \n",
       "382                                0                            0   \n",
       "489                                0                            0   \n",
       "\n",
       "         last_rental_date_2005-08-23  last_rental_date_2006-02-14  \n",
       "film_id                                                            \n",
       "103                                1                            0  \n",
       "738                                1                            0  \n",
       "331                                1                            0  \n",
       "382                                1                            0  \n",
       "489                                0                            1  \n",
       "\n",
       "[5 rows x 982 columns]"
      ]
     },
     "execution_count": 22,
     "metadata": {},
     "output_type": "execute_result"
    }
   ],
   "source": [
    "cat = get_dummies(data)\n",
    "cat.head()"
   ]
  },
  {
   "cell_type": "code",
   "execution_count": 23,
   "id": "87402230",
   "metadata": {},
   "outputs": [
    {
     "data": {
      "text/html": [
       "<div>\n",
       "<style scoped>\n",
       "    .dataframe tbody tr th:only-of-type {\n",
       "        vertical-align: middle;\n",
       "    }\n",
       "\n",
       "    .dataframe tbody tr th {\n",
       "        vertical-align: top;\n",
       "    }\n",
       "\n",
       "    .dataframe thead th {\n",
       "        text-align: right;\n",
       "    }\n",
       "</style>\n",
       "<table border=\"1\" class=\"dataframe\">\n",
       "  <thead>\n",
       "    <tr style=\"text-align: right;\">\n",
       "      <th></th>\n",
       "      <th>rental_duration</th>\n",
       "      <th>rental_rate</th>\n",
       "      <th>length</th>\n",
       "      <th>replacement_cost</th>\n",
       "      <th>number_of_rentals</th>\n",
       "    </tr>\n",
       "    <tr>\n",
       "      <th>film_id</th>\n",
       "      <th></th>\n",
       "      <th></th>\n",
       "      <th></th>\n",
       "      <th></th>\n",
       "      <th></th>\n",
       "    </tr>\n",
       "  </thead>\n",
       "  <tbody>\n",
       "    <tr>\n",
       "      <th>103</th>\n",
       "      <td>7</td>\n",
       "      <td>4.99</td>\n",
       "      <td>133</td>\n",
       "      <td>27.99</td>\n",
       "      <td>34</td>\n",
       "    </tr>\n",
       "    <tr>\n",
       "      <th>738</th>\n",
       "      <td>3</td>\n",
       "      <td>0.99</td>\n",
       "      <td>178</td>\n",
       "      <td>27.99</td>\n",
       "      <td>33</td>\n",
       "    </tr>\n",
       "    <tr>\n",
       "      <th>331</th>\n",
       "      <td>6</td>\n",
       "      <td>2.99</td>\n",
       "      <td>90</td>\n",
       "      <td>25.99</td>\n",
       "      <td>32</td>\n",
       "    </tr>\n",
       "    <tr>\n",
       "      <th>382</th>\n",
       "      <td>3</td>\n",
       "      <td>0.99</td>\n",
       "      <td>137</td>\n",
       "      <td>21.99</td>\n",
       "      <td>32</td>\n",
       "    </tr>\n",
       "    <tr>\n",
       "      <th>489</th>\n",
       "      <td>4</td>\n",
       "      <td>0.99</td>\n",
       "      <td>54</td>\n",
       "      <td>14.99</td>\n",
       "      <td>32</td>\n",
       "    </tr>\n",
       "  </tbody>\n",
       "</table>\n",
       "</div>"
      ],
      "text/plain": [
       "         rental_duration  rental_rate  length  replacement_cost  \\\n",
       "film_id                                                           \n",
       "103                    7         4.99     133             27.99   \n",
       "738                    3         0.99     178             27.99   \n",
       "331                    6         2.99      90             25.99   \n",
       "382                    3         0.99     137             21.99   \n",
       "489                    4         0.99      54             14.99   \n",
       "\n",
       "         number_of_rentals  \n",
       "film_id                     \n",
       "103                     34  \n",
       "738                     33  \n",
       "331                     32  \n",
       "382                     32  \n",
       "489                     32  "
      ]
     },
     "execution_count": 23,
     "metadata": {},
     "output_type": "execute_result"
    }
   ],
   "source": [
    "# Isolating the numerical data\n",
    "num = data.select_dtypes(np.number)\n",
    "num.head()"
   ]
  },
  {
   "cell_type": "code",
   "execution_count": 24,
   "id": "29cce063",
   "metadata": {},
   "outputs": [
    {
     "name": "stderr",
     "output_type": "stream",
     "text": [
      "C:\\Users\\camil\\anaconda3\\lib\\site-packages\\seaborn\\distributions.py:2619: FutureWarning: `distplot` is a deprecated function and will be removed in a future version. Please adapt your code to use either `displot` (a figure-level function with similar flexibility) or `histplot` (an axes-level function for histograms).\n",
      "  warnings.warn(msg, FutureWarning)\n"
     ]
    },
    {
     "data": {
      "image/png": "[encoded data removed]",
      "text/plain": [
       "<Figure size 432x288 with 1 Axes>"
      ]
     },
     "metadata": {
      "needs_background": "light"
     },
     "output_type": "display_data"
    },
    {
     "name": "stderr",
     "output_type": "stream",
     "text": [
      "C:\\Users\\camil\\anaconda3\\lib\\site-packages\\seaborn\\distributions.py:2619: FutureWarning: `distplot` is a deprecated function and will be removed in a future version. Please adapt your code to use either `displot` (a figure-level function with similar flexibility) or `histplot` (an axes-level function for histograms).\n",
      "  warnings.warn(msg, FutureWarning)\n"
     ]
    },
    {
     "data": {
      "image/png": "[encoded data removed]",
      "text/plain": [
       "<Figure size 432x288 with 1 Axes>"
      ]
     },
     "metadata": {
      "needs_background": "light"
     },
     "output_type": "display_data"
    },
    {
     "name": "stderr",
     "output_type": "stream",
     "text": [
      "C:\\Users\\camil\\anaconda3\\lib\\site-packages\\seaborn\\distributions.py:2619: FutureWarning: `distplot` is a deprecated function and will be removed in a future version. Please adapt your code to use either `displot` (a figure-level function with similar flexibility) or `histplot` (an axes-level function for histograms).\n",
      "  warnings.warn(msg, FutureWarning)\n"
     ]
    },
    {
     "data": {
      "image/png": "[encoded data removed]",
      "text/plain": [
       "<Figure size 432x288 with 1 Axes>"
      ]
     },
     "metadata": {
      "needs_background": "light"
     },
     "output_type": "display_data"
    },
    {
     "name": "stderr",
     "output_type": "stream",
     "text": [
      "C:\\Users\\camil\\anaconda3\\lib\\site-packages\\seaborn\\distributions.py:2619: FutureWarning: `distplot` is a deprecated function and will be removed in a future version. Please adapt your code to use either `displot` (a figure-level function with similar flexibility) or `histplot` (an axes-level function for histograms).\n",
      "  warnings.warn(msg, FutureWarning)\n"
     ]
    },
    {
     "data": {
      "image/png": "[encoded data removed]",
      "text/plain": [
       "<Figure size 432x288 with 1 Axes>"
      ]
     },
     "metadata": {
      "needs_background": "light"
     },
     "output_type": "display_data"
    },
    {
     "name": "stderr",
     "output_type": "stream",
     "text": [
      "C:\\Users\\camil\\anaconda3\\lib\\site-packages\\seaborn\\distributions.py:2619: FutureWarning: `distplot` is a deprecated function and will be removed in a future version. Please adapt your code to use either `displot` (a figure-level function with similar flexibility) or `histplot` (an axes-level function for histograms).\n",
      "  warnings.warn(msg, FutureWarning)\n"
     ]
    },
    {
     "data": {
      "image/png": "[encoded data removed]",
      "text/plain": [
       "<Figure size 432x288 with 1 Axes>"
      ]
     },
     "metadata": {
      "needs_background": "light"
     },
     "output_type": "display_data"
    }
   ],
   "source": [
    "for column in num.columns:\n",
    "    sns.distplot(data[column])\n",
    "    plt.show()"
   ]
  },
  {
   "cell_type": "markdown",
   "id": "e1829d2e",
   "metadata": {},
   "source": [
    "## Normalizing the Data"
   ]
  },
  {
   "cell_type": "code",
   "execution_count": 25,
   "id": "44ab7434",
   "metadata": {},
   "outputs": [
    {
     "data": {
      "text/html": [
       "<div>\n",
       "<style scoped>\n",
       "    .dataframe tbody tr th:only-of-type {\n",
       "        vertical-align: middle;\n",
       "    }\n",
       "\n",
       "    .dataframe tbody tr th {\n",
       "        vertical-align: top;\n",
       "    }\n",
       "\n",
       "    .dataframe thead th {\n",
       "        text-align: right;\n",
       "    }\n",
       "</style>\n",
       "<table border=\"1\" class=\"dataframe\">\n",
       "  <thead>\n",
       "    <tr style=\"text-align: right;\">\n",
       "      <th></th>\n",
       "      <th>rental_duration</th>\n",
       "      <th>rental_rate</th>\n",
       "      <th>length</th>\n",
       "      <th>replacement_cost</th>\n",
       "      <th>number_of_rentals</th>\n",
       "    </tr>\n",
       "  </thead>\n",
       "  <tbody>\n",
       "    <tr>\n",
       "      <th>0</th>\n",
       "      <td>1.443540</td>\n",
       "      <td>1.224470</td>\n",
       "      <td>0.431990</td>\n",
       "      <td>1.308771</td>\n",
       "      <td>2.586367</td>\n",
       "    </tr>\n",
       "    <tr>\n",
       "      <th>1</th>\n",
       "      <td>-1.398986</td>\n",
       "      <td>-1.211741</td>\n",
       "      <td>1.544183</td>\n",
       "      <td>1.308771</td>\n",
       "      <td>2.436513</td>\n",
       "    </tr>\n",
       "    <tr>\n",
       "      <th>2</th>\n",
       "      <td>0.732908</td>\n",
       "      <td>0.006364</td>\n",
       "      <td>-0.630772</td>\n",
       "      <td>0.978733</td>\n",
       "      <td>2.286658</td>\n",
       "    </tr>\n",
       "    <tr>\n",
       "      <th>3</th>\n",
       "      <td>-1.398986</td>\n",
       "      <td>-1.211741</td>\n",
       "      <td>0.530852</td>\n",
       "      <td>0.318657</td>\n",
       "      <td>2.286658</td>\n",
       "    </tr>\n",
       "    <tr>\n",
       "      <th>4</th>\n",
       "      <td>-0.688355</td>\n",
       "      <td>-1.211741</td>\n",
       "      <td>-1.520527</td>\n",
       "      <td>-0.836475</td>\n",
       "      <td>2.286658</td>\n",
       "    </tr>\n",
       "  </tbody>\n",
       "</table>\n",
       "</div>"
      ],
      "text/plain": [
       "   rental_duration  rental_rate    length  replacement_cost  number_of_rentals\n",
       "0         1.443540     1.224470  0.431990          1.308771           2.586367\n",
       "1        -1.398986    -1.211741  1.544183          1.308771           2.436513\n",
       "2         0.732908     0.006364 -0.630772          0.978733           2.286658\n",
       "3        -1.398986    -1.211741  0.530852          0.318657           2.286658\n",
       "4        -0.688355    -1.211741 -1.520527         -0.836475           2.286658"
      ]
     },
     "execution_count": 25,
     "metadata": {},
     "output_type": "execute_result"
    }
   ],
   "source": [
    "transformer = StandardScaler().fit(num)\n",
    "num_normalized = transformer.transform(num)\n",
    "x = pd.DataFrame(num_normalized)\n",
    "x.columns = num.columns\n",
    "x.head()"
   ]
  },
  {
   "cell_type": "code",
   "execution_count": 26,
   "id": "5297b2b7",
   "metadata": {},
   "outputs": [
    {
     "data": {
      "text/plain": [
       "(957, 987)"
      ]
     },
     "execution_count": 26,
     "metadata": {},
     "output_type": "execute_result"
    }
   ],
   "source": [
    "x.reset_index(drop=True, inplace=True)\n",
    "cat.reset_index(drop=True, inplace=True)\n",
    "df = pd.concat([x, cat], axis=1)\n",
    "df.shape"
   ]
  },
  {
   "cell_type": "markdown",
   "id": "3c1bad7f",
   "metadata": {},
   "source": [
    "## Creating the target variable"
   ]
  },
  {
   "cell_type": "code",
   "execution_count": 27,
   "id": "5ceeb16b",
   "metadata": {},
   "outputs": [],
   "source": [
    "# Create a query to get the list of films and a boolean indicating if it was rented last month. \n",
    "# This would be our target variable."
   ]
  },
  {
   "cell_type": "code",
   "execution_count": 28,
   "id": "ca5e339e",
   "metadata": {},
   "outputs": [
    {
     "data": {
      "text/html": [
       "<div>\n",
       "<style scoped>\n",
       "    .dataframe tbody tr th:only-of-type {\n",
       "        vertical-align: middle;\n",
       "    }\n",
       "\n",
       "    .dataframe tbody tr th {\n",
       "        vertical-align: top;\n",
       "    }\n",
       "\n",
       "    .dataframe thead th {\n",
       "        text-align: right;\n",
       "    }\n",
       "</style>\n",
       "<table border=\"1\" class=\"dataframe\">\n",
       "  <thead>\n",
       "    <tr style=\"text-align: right;\">\n",
       "      <th></th>\n",
       "      <th>film_id</th>\n",
       "      <th>rented_last_month</th>\n",
       "    </tr>\n",
       "  </thead>\n",
       "  <tbody>\n",
       "    <tr>\n",
       "      <th>0</th>\n",
       "      <td>2</td>\n",
       "      <td>1</td>\n",
       "    </tr>\n",
       "    <tr>\n",
       "      <th>1</th>\n",
       "      <td>3</td>\n",
       "      <td>0</td>\n",
       "    </tr>\n",
       "    <tr>\n",
       "      <th>2</th>\n",
       "      <td>4</td>\n",
       "      <td>1</td>\n",
       "    </tr>\n",
       "    <tr>\n",
       "      <th>3</th>\n",
       "      <td>5</td>\n",
       "      <td>1</td>\n",
       "    </tr>\n",
       "    <tr>\n",
       "      <th>4</th>\n",
       "      <td>6</td>\n",
       "      <td>0</td>\n",
       "    </tr>\n",
       "  </tbody>\n",
       "</table>\n",
       "</div>"
      ],
      "text/plain": [
       "   film_id  rented_last_month\n",
       "0        2                  1\n",
       "1        3                  0\n",
       "2        4                  1\n",
       "3        5                  1\n",
       "4        6                  0"
      ]
     },
     "execution_count": 28,
     "metadata": {},
     "output_type": "execute_result"
    }
   ],
   "source": [
    "target_query = '''\n",
    "SELECT film_id,\n",
    "\tCASE\n",
    "\tWHEN MAX(last_rental_date) > '2006-01-31' THEN True\n",
    "\tELSE False\n",
    "\t\tEND AS rented_last_month\n",
    "FROM \n",
    "\tlast_rental_date\n",
    "GROUP BY\n",
    "\tfilm_id;\n",
    "'''\n",
    "target = pd.read_sql_query(target_query, engine)\n",
    "target.head()"
   ]
  },
  {
   "cell_type": "code",
   "execution_count": 29,
   "id": "82d406a8",
   "metadata": {},
   "outputs": [
    {
     "data": {
      "text/plain": [
       "(957, 2)"
      ]
     },
     "execution_count": 29,
     "metadata": {},
     "output_type": "execute_result"
    }
   ],
   "source": [
    "target.shape"
   ]
  },
  {
   "cell_type": "code",
   "execution_count": 30,
   "id": "7f8d93bb",
   "metadata": {},
   "outputs": [
    {
     "data": {
      "text/plain": [
       "(957, 9)"
      ]
     },
     "execution_count": 30,
     "metadata": {},
     "output_type": "execute_result"
    }
   ],
   "source": [
    "data.shape"
   ]
  },
  {
   "cell_type": "code",
   "execution_count": 31,
   "id": "1e2bfab0",
   "metadata": {},
   "outputs": [
    {
     "data": {
      "text/plain": [
       "0    789\n",
       "1    168\n",
       "Name: rented_last_month, dtype: int64"
      ]
     },
     "execution_count": 31,
     "metadata": {},
     "output_type": "execute_result"
    }
   ],
   "source": [
    "target.rented_last_month.value_counts()"
   ]
  },
  {
   "cell_type": "code",
   "execution_count": 32,
   "id": "42c86818",
   "metadata": {},
   "outputs": [],
   "source": [
    "target['rented_last_month'] = target['rented_last_month'].astype('bool')"
   ]
  },
  {
   "cell_type": "code",
   "execution_count": 33,
   "id": "de948b17",
   "metadata": {},
   "outputs": [
    {
     "name": "stdout",
     "output_type": "stream",
     "text": [
      "<class 'pandas.core.frame.DataFrame'>\n",
      "RangeIndex: 957 entries, 0 to 956\n",
      "Data columns (total 2 columns):\n",
      " #   Column             Non-Null Count  Dtype\n",
      "---  ------             --------------  -----\n",
      " 0   film_id            957 non-null    int64\n",
      " 1   rented_last_month  957 non-null    bool \n",
      "dtypes: bool(1), int64(1)\n",
      "memory usage: 8.5 KB\n"
     ]
    }
   ],
   "source": [
    "target.info()"
   ]
  },
  {
   "cell_type": "markdown",
   "id": "f48a53f9",
   "metadata": {},
   "source": [
    "## Splitting the target and training the model"
   ]
  },
  {
   "cell_type": "code",
   "execution_count": 34,
   "id": "10534c2e",
   "metadata": {},
   "outputs": [],
   "source": [
    "y = target['rented_last_month']\n",
    "X = np.concatenate((x, cat), axis=1)"
   ]
  },
  {
   "cell_type": "code",
   "execution_count": 35,
   "id": "8994700a",
   "metadata": {},
   "outputs": [
    {
     "data": {
      "text/plain": [
       "(957, 987)"
      ]
     },
     "execution_count": 35,
     "metadata": {},
     "output_type": "execute_result"
    }
   ],
   "source": [
    "X.shape"
   ]
  },
  {
   "cell_type": "code",
   "execution_count": null,
   "id": "c0cfc3f9",
   "metadata": {},
   "outputs": [],
   "source": []
  },
  {
   "cell_type": "code",
   "execution_count": 36,
   "id": "96d07df0",
   "metadata": {},
   "outputs": [],
   "source": [
    "# We separate training and testing datasets and correspondant targets\n",
    "X_train, X_test, y_train, y_test = train_test_split(X, y, test_size=0.3, random_state=100)"
   ]
  },
  {
   "cell_type": "code",
   "execution_count": 37,
   "id": "63d8b5f9",
   "metadata": {},
   "outputs": [],
   "source": [
    "# Set and fit the model\n",
    "logreg = LogisticRegression(random_state=0, multi_class='auto').fit(X_train, y_train)"
   ]
  },
  {
   "cell_type": "code",
   "execution_count": 38,
   "id": "6209b103",
   "metadata": {},
   "outputs": [],
   "source": [
    "# We predict on the testing dataset\n",
    "y_pred_class = logreg.predict(X_test)"
   ]
  },
  {
   "cell_type": "markdown",
   "id": "80edf559",
   "metadata": {},
   "source": [
    "## Evaluating the Model"
   ]
  },
  {
   "cell_type": "code",
   "execution_count": 39,
   "id": "9ae090e9",
   "metadata": {},
   "outputs": [
    {
     "data": {
      "text/plain": [
       "False    288\n",
       "dtype: int64"
      ]
     },
     "execution_count": 39,
     "metadata": {},
     "output_type": "execute_result"
    }
   ],
   "source": [
    "pd.Series(y_pred_class).value_counts()"
   ]
  },
  {
   "cell_type": "code",
   "execution_count": 40,
   "id": "880b7e76",
   "metadata": {},
   "outputs": [
    {
     "data": {
      "text/plain": [
       "False    234\n",
       "True      54\n",
       "Name: rented_last_month, dtype: int64"
      ]
     },
     "execution_count": 40,
     "metadata": {},
     "output_type": "execute_result"
    }
   ],
   "source": [
    "y_test.value_counts()\n",
    "# our model looks like it can better predict the False values than the True values"
   ]
  },
  {
   "cell_type": "code",
   "execution_count": 41,
   "id": "43cf18e6",
   "metadata": {},
   "outputs": [
    {
     "data": {
      "text/plain": [
       "array([[234,   0],\n",
       "       [ 54,   0]], dtype=int64)"
      ]
     },
     "execution_count": 41,
     "metadata": {},
     "output_type": "execute_result"
    }
   ],
   "source": [
    "confusion_matrix(y_test, y_pred_class)"
   ]
  },
  {
   "cell_type": "code",
   "execution_count": 42,
   "id": "f51015bf",
   "metadata": {},
   "outputs": [],
   "source": [
    "confusion = confusion_matrix(y_test, y_pred_class)\n",
    "TP = confusion[1, 1]\n",
    "TN = confusion[0, 0]\n",
    "FP = confusion[0, 1]\n",
    "FN = confusion[1, 0]"
   ]
  },
  {
   "cell_type": "markdown",
   "id": "a187badc",
   "metadata": {},
   "source": [
    "###### Classification Accuracy: Overall, how often is the classifier correct?"
   ]
  },
  {
   "cell_type": "code",
   "execution_count": 43,
   "id": "3b0e03c8",
   "metadata": {},
   "outputs": [
    {
     "name": "stdout",
     "output_type": "stream",
     "text": [
      "0.8125\n",
      "0.8125\n"
     ]
    }
   ],
   "source": [
    "print((TP + TN) / float(TP + TN + FP + FN))\n",
    "print(metrics.accuracy_score(y_test, y_pred_class))"
   ]
  },
  {
   "cell_type": "markdown",
   "id": "f2525fba",
   "metadata": {},
   "source": [
    "###### Sensitivity: When the actual value is positive, how often is the prediction correct?"
   ]
  },
  {
   "cell_type": "code",
   "execution_count": 44,
   "id": "09c0079e",
   "metadata": {},
   "outputs": [
    {
     "name": "stdout",
     "output_type": "stream",
     "text": [
      "0.0\n",
      "0.0\n"
     ]
    }
   ],
   "source": [
    "sensitivity = TP / float(FN + TP)\n",
    "\n",
    "print(sensitivity)\n",
    "print(metrics.recall_score(y_test, y_pred_class))"
   ]
  },
  {
   "cell_type": "markdown",
   "id": "789cf32a",
   "metadata": {},
   "source": [
    "###### False Negative Rate: When the actual value is positive, how often is the prediction incorrect?"
   ]
  },
  {
   "cell_type": "code",
   "execution_count": 45,
   "id": "10aa91fb",
   "metadata": {},
   "outputs": [
    {
     "name": "stdout",
     "output_type": "stream",
     "text": [
      "1.0\n",
      "1.0\n"
     ]
    }
   ],
   "source": [
    "false_negative_rate = FN / float( FN + TP)\n",
    "\n",
    "print(false_negative_rate)\n",
    "print(1 - sensitivity)"
   ]
  },
  {
   "cell_type": "markdown",
   "id": "263fe04f",
   "metadata": {},
   "source": [
    "###### Specificity: When the actual value is negative, how often is the prediction correct?"
   ]
  },
  {
   "cell_type": "code",
   "execution_count": 46,
   "id": "20005dfe",
   "metadata": {},
   "outputs": [
    {
     "name": "stdout",
     "output_type": "stream",
     "text": [
      "1.0\n"
     ]
    }
   ],
   "source": [
    "specificity = TN / (TN + FP)\n",
    "\n",
    "print(specificity)"
   ]
  },
  {
   "cell_type": "markdown",
   "id": "46c4b47a",
   "metadata": {},
   "source": [
    "###### False Positive Rate: When the actual value is negative, how often is the prediction incorrect?"
   ]
  },
  {
   "cell_type": "code",
   "execution_count": 47,
   "id": "cba02891",
   "metadata": {},
   "outputs": [
    {
     "name": "stdout",
     "output_type": "stream",
     "text": [
      "0.0\n",
      "0.0\n"
     ]
    }
   ],
   "source": [
    "false_positive_rate = FP / float(TN + FP)\n",
    "\n",
    "print(false_positive_rate)\n",
    "print(1 - specificity)"
   ]
  },
  {
   "cell_type": "code",
   "execution_count": 48,
   "id": "3dde2005",
   "metadata": {},
   "outputs": [
    {
     "name": "stderr",
     "output_type": "stream",
     "text": [
      "C:\\Users\\camil\\AppData\\Local\\Temp/ipykernel_9108/3168716342.py:3: UserWarning: FixedFormatter should only be used together with FixedLocator\n",
      "  plt.subplot().xaxis.set_ticklabels([\"1\",\"0\"])\n",
      "C:\\Users\\camil\\AppData\\Local\\Temp/ipykernel_9108/3168716342.py:4: UserWarning: FixedFormatter should only be used together with FixedLocator\n",
      "  plt.subplot().yaxis.set_ticklabels([\"1\",\"0\"])\n"
     ]
    },
    {
     "data": {
      "text/plain": [
       "[Text(0, 0.0, '1'),\n",
       " Text(0, 0.2, '0'),\n",
       " Text(0, 0.4, ''),\n",
       " Text(0, 0.6000000000000001, ''),\n",
       " Text(0, 0.8, ''),\n",
       " Text(0, 1.0, '')]"
      ]
     },
     "execution_count": 48,
     "metadata": {},
     "output_type": "execute_result"
    },
    {
     "data": {
      "image/png": "[encoded data removed]",
      "text/plain": [
       "<Figure size 432x288 with 1 Axes>"
      ]
     },
     "metadata": {
      "needs_background": "light"
     },
     "output_type": "display_data"
    }
   ],
   "source": [
    "cm = confusion_matrix(y_test, y_pred_class)\n",
    "sns.heatmap(cm, annot=True,fmt='g')\n",
    "plt.subplot().xaxis.set_ticklabels([\"1\",\"0\"])\n",
    "plt.subplot().yaxis.set_ticklabels([\"1\",\"0\"])"
   ]
  },
  {
   "cell_type": "code",
   "execution_count": 49,
   "id": "ac5ad392",
   "metadata": {},
   "outputs": [
    {
     "data": {
      "text/plain": [
       "0.8125"
      ]
     },
     "execution_count": 49,
     "metadata": {},
     "output_type": "execute_result"
    }
   ],
   "source": [
    "# Accuracy\n",
    "logreg.score(X_test, y_test)"
   ]
  },
  {
   "cell_type": "code",
   "execution_count": 50,
   "id": "6e24ac6e",
   "metadata": {},
   "outputs": [
    {
     "data": {
      "text/plain": [
       "[<matplotlib.lines.Line2D at 0x19162c7a280>]"
      ]
     },
     "execution_count": 50,
     "metadata": {},
     "output_type": "execute_result"
    },
    {
     "data": {
      "image/png": "[encoded data removed]",
      "text/plain": [
       "<Figure size 432x288 with 1 Axes>"
      ]
     },
     "metadata": {
      "needs_background": "light"
     },
     "output_type": "display_data"
    }
   ],
   "source": [
    "y_pred_proba = logreg.predict_proba(X_test)[::,1]\n",
    "fpr, tpr, _ = metrics.roc_curve(y_test, y_pred_proba)\n",
    "auc = metrics.roc_auc_score(y_test, y_pred_proba)\n",
    "plt.plot(fpr,tpr)"
   ]
  },
  {
   "cell_type": "markdown",
   "id": "85a05eb9",
   "metadata": {},
   "source": [
    "## Improving the Model\n",
    "### We need to increase the sensitivity to increase the number of true positives"
   ]
  },
  {
   "cell_type": "markdown",
   "id": "0c1d8f4a",
   "metadata": {},
   "source": [
    "###### Remarks and notes\n",
    "\n",
    "We are very bad at predicting one class - positives - and very good at predicting another - negatives - which is due to a data imbalance as we have 789 0s and 168 1s.\n",
    "So we are very good with specificity and very bad at sensitivity."
   ]
  },
  {
   "cell_type": "markdown",
   "id": "f8ee8739",
   "metadata": {},
   "source": [
    "### Taking the SMOTE approach"
   ]
  },
  {
   "cell_type": "code",
   "execution_count": 51,
   "id": "110901c4",
   "metadata": {},
   "outputs": [
    {
     "name": "stdout",
     "output_type": "stream",
     "text": [
      "length of oversampled data is  1098\n",
      "Number of not rented in oversampled data 549\n",
      "Number of rented 549\n",
      "Proportion of not rented data in oversampled data is  0.5\n",
      "Proportion of rented data in oversampled data is  0.5\n"
     ]
    }
   ],
   "source": [
    "X_smote = df\n",
    "y_smote = y\n",
    "\n",
    "os = SMOTE(random_state=0)\n",
    "X_smote_train, X_smote_test, y_smote_train, y_smote_test = train_test_split(X_smote, y_smote, test_size=0.3, random_state=0)\n",
    "columns = X_smote_train.columns\n",
    "\n",
    "os_data_X,os_data_y=os.fit_sample(X_smote_train, y_smote_train)\n",
    "os_data_X = pd.DataFrame(data=os_data_X,columns=columns )\n",
    "os_data_y= pd.DataFrame(data=os_data_y,columns=['rented_last_month'])\n",
    "# we can Check the numbers of our data\n",
    "print(\"length of oversampled data is \",len(os_data_X))\n",
    "print(\"Number of not rented in oversampled data\",len(os_data_y[os_data_y['rented_last_month']==0]))\n",
    "print(\"Number of rented\",len(os_data_y[os_data_y['rented_last_month']==1]))\n",
    "print(\"Proportion of not rented data in oversampled data is \",len(os_data_y[os_data_y['rented_last_month']==0])/len(os_data_X))\n",
    "print(\"Proportion of rented data in oversampled data is \",len(os_data_y[os_data_y['rented_last_month']==1])/len(os_data_X))"
   ]
  },
  {
   "cell_type": "code",
   "execution_count": 52,
   "id": "3a0ff1e1",
   "metadata": {},
   "outputs": [
    {
     "data": {
      "text/html": [
       "<div>\n",
       "<style scoped>\n",
       "    .dataframe tbody tr th:only-of-type {\n",
       "        vertical-align: middle;\n",
       "    }\n",
       "\n",
       "    .dataframe tbody tr th {\n",
       "        vertical-align: top;\n",
       "    }\n",
       "\n",
       "    .dataframe thead th {\n",
       "        text-align: right;\n",
       "    }\n",
       "</style>\n",
       "<table border=\"1\" class=\"dataframe\">\n",
       "  <thead>\n",
       "    <tr style=\"text-align: right;\">\n",
       "      <th></th>\n",
       "      <th>rental_duration</th>\n",
       "      <th>rental_rate</th>\n",
       "      <th>length</th>\n",
       "      <th>replacement_cost</th>\n",
       "      <th>number_of_rentals</th>\n",
       "      <th>title_ADAPTATION HOLES</th>\n",
       "      <th>title_AFFAIR PREJUDICE</th>\n",
       "      <th>title_AFRICAN EGG</th>\n",
       "      <th>title_AGENT TRUMAN</th>\n",
       "      <th>title_AIRPLANE SIERRA</th>\n",
       "      <th>...</th>\n",
       "      <th>category_Sci-Fi</th>\n",
       "      <th>category_Sports</th>\n",
       "      <th>category_Travel</th>\n",
       "      <th>last_rental_date_2005-08-18</th>\n",
       "      <th>last_rental_date_2005-08-19</th>\n",
       "      <th>last_rental_date_2005-08-20</th>\n",
       "      <th>last_rental_date_2005-08-21</th>\n",
       "      <th>last_rental_date_2005-08-22</th>\n",
       "      <th>last_rental_date_2005-08-23</th>\n",
       "      <th>last_rental_date_2006-02-14</th>\n",
       "    </tr>\n",
       "  </thead>\n",
       "  <tbody>\n",
       "    <tr>\n",
       "      <th>0</th>\n",
       "      <td>0.732908</td>\n",
       "      <td>0.006364</td>\n",
       "      <td>-0.606057</td>\n",
       "      <td>0.813714</td>\n",
       "      <td>1.687238</td>\n",
       "      <td>0</td>\n",
       "      <td>0</td>\n",
       "      <td>0</td>\n",
       "      <td>0</td>\n",
       "      <td>0</td>\n",
       "      <td>...</td>\n",
       "      <td>0</td>\n",
       "      <td>0</td>\n",
       "      <td>0</td>\n",
       "      <td>0</td>\n",
       "      <td>0</td>\n",
       "      <td>0</td>\n",
       "      <td>0</td>\n",
       "      <td>1</td>\n",
       "      <td>0</td>\n",
       "      <td>0</td>\n",
       "    </tr>\n",
       "    <tr>\n",
       "      <th>1</th>\n",
       "      <td>1.443540</td>\n",
       "      <td>1.224470</td>\n",
       "      <td>-1.125080</td>\n",
       "      <td>1.308771</td>\n",
       "      <td>-0.111021</td>\n",
       "      <td>0</td>\n",
       "      <td>0</td>\n",
       "      <td>0</td>\n",
       "      <td>0</td>\n",
       "      <td>0</td>\n",
       "      <td>...</td>\n",
       "      <td>1</td>\n",
       "      <td>0</td>\n",
       "      <td>0</td>\n",
       "      <td>0</td>\n",
       "      <td>0</td>\n",
       "      <td>0</td>\n",
       "      <td>0</td>\n",
       "      <td>0</td>\n",
       "      <td>1</td>\n",
       "      <td>0</td>\n",
       "    </tr>\n",
       "    <tr>\n",
       "      <th>2</th>\n",
       "      <td>0.022277</td>\n",
       "      <td>-1.211741</td>\n",
       "      <td>1.025160</td>\n",
       "      <td>0.318657</td>\n",
       "      <td>0.338544</td>\n",
       "      <td>0</td>\n",
       "      <td>0</td>\n",
       "      <td>0</td>\n",
       "      <td>0</td>\n",
       "      <td>0</td>\n",
       "      <td>...</td>\n",
       "      <td>0</td>\n",
       "      <td>0</td>\n",
       "      <td>0</td>\n",
       "      <td>0</td>\n",
       "      <td>0</td>\n",
       "      <td>0</td>\n",
       "      <td>0</td>\n",
       "      <td>1</td>\n",
       "      <td>0</td>\n",
       "      <td>0</td>\n",
       "    </tr>\n",
       "    <tr>\n",
       "      <th>3</th>\n",
       "      <td>1.443540</td>\n",
       "      <td>0.006364</td>\n",
       "      <td>0.506136</td>\n",
       "      <td>-0.836475</td>\n",
       "      <td>0.488399</td>\n",
       "      <td>0</td>\n",
       "      <td>0</td>\n",
       "      <td>0</td>\n",
       "      <td>0</td>\n",
       "      <td>0</td>\n",
       "      <td>...</td>\n",
       "      <td>0</td>\n",
       "      <td>0</td>\n",
       "      <td>0</td>\n",
       "      <td>0</td>\n",
       "      <td>0</td>\n",
       "      <td>0</td>\n",
       "      <td>0</td>\n",
       "      <td>0</td>\n",
       "      <td>1</td>\n",
       "      <td>0</td>\n",
       "    </tr>\n",
       "    <tr>\n",
       "      <th>4</th>\n",
       "      <td>1.443540</td>\n",
       "      <td>0.006364</td>\n",
       "      <td>1.272314</td>\n",
       "      <td>0.153638</td>\n",
       "      <td>1.237673</td>\n",
       "      <td>0</td>\n",
       "      <td>0</td>\n",
       "      <td>0</td>\n",
       "      <td>0</td>\n",
       "      <td>0</td>\n",
       "      <td>...</td>\n",
       "      <td>0</td>\n",
       "      <td>0</td>\n",
       "      <td>1</td>\n",
       "      <td>0</td>\n",
       "      <td>0</td>\n",
       "      <td>0</td>\n",
       "      <td>0</td>\n",
       "      <td>0</td>\n",
       "      <td>1</td>\n",
       "      <td>0</td>\n",
       "    </tr>\n",
       "    <tr>\n",
       "      <th>...</th>\n",
       "      <td>...</td>\n",
       "      <td>...</td>\n",
       "      <td>...</td>\n",
       "      <td>...</td>\n",
       "      <td>...</td>\n",
       "      <td>...</td>\n",
       "      <td>...</td>\n",
       "      <td>...</td>\n",
       "      <td>...</td>\n",
       "      <td>...</td>\n",
       "      <td>...</td>\n",
       "      <td>...</td>\n",
       "      <td>...</td>\n",
       "      <td>...</td>\n",
       "      <td>...</td>\n",
       "      <td>...</td>\n",
       "      <td>...</td>\n",
       "      <td>...</td>\n",
       "      <td>...</td>\n",
       "      <td>...</td>\n",
       "      <td>...</td>\n",
       "    </tr>\n",
       "    <tr>\n",
       "      <th>1093</th>\n",
       "      <td>0.578138</td>\n",
       "      <td>-1.211741</td>\n",
       "      <td>0.278719</td>\n",
       "      <td>-0.482478</td>\n",
       "      <td>1.120456</td>\n",
       "      <td>0</td>\n",
       "      <td>0</td>\n",
       "      <td>0</td>\n",
       "      <td>0</td>\n",
       "      <td>0</td>\n",
       "      <td>...</td>\n",
       "      <td>0</td>\n",
       "      <td>0</td>\n",
       "      <td>0</td>\n",
       "      <td>0</td>\n",
       "      <td>0</td>\n",
       "      <td>0</td>\n",
       "      <td>0</td>\n",
       "      <td>1</td>\n",
       "      <td>0</td>\n",
       "      <td>0</td>\n",
       "    </tr>\n",
       "    <tr>\n",
       "      <th>1094</th>\n",
       "      <td>0.732908</td>\n",
       "      <td>-0.367408</td>\n",
       "      <td>-1.407312</td>\n",
       "      <td>0.763078</td>\n",
       "      <td>-0.030963</td>\n",
       "      <td>0</td>\n",
       "      <td>0</td>\n",
       "      <td>0</td>\n",
       "      <td>0</td>\n",
       "      <td>0</td>\n",
       "      <td>...</td>\n",
       "      <td>0</td>\n",
       "      <td>0</td>\n",
       "      <td>0</td>\n",
       "      <td>0</td>\n",
       "      <td>0</td>\n",
       "      <td>0</td>\n",
       "      <td>0</td>\n",
       "      <td>1</td>\n",
       "      <td>0</td>\n",
       "      <td>0</td>\n",
       "    </tr>\n",
       "    <tr>\n",
       "      <th>1095</th>\n",
       "      <td>0.313846</td>\n",
       "      <td>0.365526</td>\n",
       "      <td>0.768483</td>\n",
       "      <td>-0.195450</td>\n",
       "      <td>-0.454916</td>\n",
       "      <td>0</td>\n",
       "      <td>0</td>\n",
       "      <td>0</td>\n",
       "      <td>0</td>\n",
       "      <td>0</td>\n",
       "      <td>...</td>\n",
       "      <td>0</td>\n",
       "      <td>0</td>\n",
       "      <td>0</td>\n",
       "      <td>0</td>\n",
       "      <td>0</td>\n",
       "      <td>0</td>\n",
       "      <td>0</td>\n",
       "      <td>1</td>\n",
       "      <td>0</td>\n",
       "      <td>0</td>\n",
       "    </tr>\n",
       "    <tr>\n",
       "      <th>1096</th>\n",
       "      <td>-0.551821</td>\n",
       "      <td>1.224470</td>\n",
       "      <td>1.106486</td>\n",
       "      <td>0.518628</td>\n",
       "      <td>-1.609570</td>\n",
       "      <td>0</td>\n",
       "      <td>0</td>\n",
       "      <td>0</td>\n",
       "      <td>0</td>\n",
       "      <td>0</td>\n",
       "      <td>...</td>\n",
       "      <td>0</td>\n",
       "      <td>0</td>\n",
       "      <td>0</td>\n",
       "      <td>0</td>\n",
       "      <td>0</td>\n",
       "      <td>0</td>\n",
       "      <td>0</td>\n",
       "      <td>0</td>\n",
       "      <td>0</td>\n",
       "      <td>0</td>\n",
       "    </tr>\n",
       "    <tr>\n",
       "      <th>1097</th>\n",
       "      <td>-0.359500</td>\n",
       "      <td>0.660774</td>\n",
       "      <td>-0.109908</td>\n",
       "      <td>-0.316840</td>\n",
       "      <td>0.027674</td>\n",
       "      <td>0</td>\n",
       "      <td>0</td>\n",
       "      <td>0</td>\n",
       "      <td>0</td>\n",
       "      <td>0</td>\n",
       "      <td>...</td>\n",
       "      <td>0</td>\n",
       "      <td>0</td>\n",
       "      <td>0</td>\n",
       "      <td>0</td>\n",
       "      <td>0</td>\n",
       "      <td>0</td>\n",
       "      <td>0</td>\n",
       "      <td>0</td>\n",
       "      <td>1</td>\n",
       "      <td>0</td>\n",
       "    </tr>\n",
       "  </tbody>\n",
       "</table>\n",
       "<p>1098 rows × 987 columns</p>\n",
       "</div>"
      ],
      "text/plain": [
       "      rental_duration  rental_rate    length  replacement_cost  \\\n",
       "0            0.732908     0.006364 -0.606057          0.813714   \n",
       "1            1.443540     1.224470 -1.125080          1.308771   \n",
       "2            0.022277    -1.211741  1.025160          0.318657   \n",
       "3            1.443540     0.006364  0.506136         -0.836475   \n",
       "4            1.443540     0.006364  1.272314          0.153638   \n",
       "...               ...          ...       ...               ...   \n",
       "1093         0.578138    -1.211741  0.278719         -0.482478   \n",
       "1094         0.732908    -0.367408 -1.407312          0.763078   \n",
       "1095         0.313846     0.365526  0.768483         -0.195450   \n",
       "1096        -0.551821     1.224470  1.106486          0.518628   \n",
       "1097        -0.359500     0.660774 -0.109908         -0.316840   \n",
       "\n",
       "      number_of_rentals  title_ADAPTATION HOLES  title_AFFAIR PREJUDICE  \\\n",
       "0              1.687238                       0                       0   \n",
       "1             -0.111021                       0                       0   \n",
       "2              0.338544                       0                       0   \n",
       "3              0.488399                       0                       0   \n",
       "4              1.237673                       0                       0   \n",
       "...                 ...                     ...                     ...   \n",
       "1093           1.120456                       0                       0   \n",
       "1094          -0.030963                       0                       0   \n",
       "1095          -0.454916                       0                       0   \n",
       "1096          -1.609570                       0                       0   \n",
       "1097           0.027674                       0                       0   \n",
       "\n",
       "      title_AFRICAN EGG  title_AGENT TRUMAN  title_AIRPLANE SIERRA  ...  \\\n",
       "0                     0                   0                      0  ...   \n",
       "1                     0                   0                      0  ...   \n",
       "2                     0                   0                      0  ...   \n",
       "3                     0                   0                      0  ...   \n",
       "4                     0                   0                      0  ...   \n",
       "...                 ...                 ...                    ...  ...   \n",
       "1093                  0                   0                      0  ...   \n",
       "1094                  0                   0                      0  ...   \n",
       "1095                  0                   0                      0  ...   \n",
       "1096                  0                   0                      0  ...   \n",
       "1097                  0                   0                      0  ...   \n",
       "\n",
       "      category_Sci-Fi  category_Sports  category_Travel  \\\n",
       "0                   0                0                0   \n",
       "1                   1                0                0   \n",
       "2                   0                0                0   \n",
       "3                   0                0                0   \n",
       "4                   0                0                1   \n",
       "...               ...              ...              ...   \n",
       "1093                0                0                0   \n",
       "1094                0                0                0   \n",
       "1095                0                0                0   \n",
       "1096                0                0                0   \n",
       "1097                0                0                0   \n",
       "\n",
       "      last_rental_date_2005-08-18  last_rental_date_2005-08-19  \\\n",
       "0                               0                            0   \n",
       "1                               0                            0   \n",
       "2                               0                            0   \n",
       "3                               0                            0   \n",
       "4                               0                            0   \n",
       "...                           ...                          ...   \n",
       "1093                            0                            0   \n",
       "1094                            0                            0   \n",
       "1095                            0                            0   \n",
       "1096                            0                            0   \n",
       "1097                            0                            0   \n",
       "\n",
       "      last_rental_date_2005-08-20  last_rental_date_2005-08-21  \\\n",
       "0                               0                            0   \n",
       "1                               0                            0   \n",
       "2                               0                            0   \n",
       "3                               0                            0   \n",
       "4                               0                            0   \n",
       "...                           ...                          ...   \n",
       "1093                            0                            0   \n",
       "1094                            0                            0   \n",
       "1095                            0                            0   \n",
       "1096                            0                            0   \n",
       "1097                            0                            0   \n",
       "\n",
       "      last_rental_date_2005-08-22  last_rental_date_2005-08-23  \\\n",
       "0                               1                            0   \n",
       "1                               0                            1   \n",
       "2                               1                            0   \n",
       "3                               0                            1   \n",
       "4                               0                            1   \n",
       "...                           ...                          ...   \n",
       "1093                            1                            0   \n",
       "1094                            1                            0   \n",
       "1095                            1                            0   \n",
       "1096                            0                            0   \n",
       "1097                            0                            1   \n",
       "\n",
       "      last_rental_date_2006-02-14  \n",
       "0                               0  \n",
       "1                               0  \n",
       "2                               0  \n",
       "3                               0  \n",
       "4                               0  \n",
       "...                           ...  \n",
       "1093                            0  \n",
       "1094                            0  \n",
       "1095                            0  \n",
       "1096                            0  \n",
       "1097                            0  \n",
       "\n",
       "[1098 rows x 987 columns]"
      ]
     },
     "execution_count": 52,
     "metadata": {},
     "output_type": "execute_result"
    }
   ],
   "source": [
    "os_data_X"
   ]
  },
  {
   "cell_type": "code",
   "execution_count": 53,
   "id": "b97a1f0e",
   "metadata": {},
   "outputs": [
    {
     "data": {
      "text/html": [
       "<div>\n",
       "<style scoped>\n",
       "    .dataframe tbody tr th:only-of-type {\n",
       "        vertical-align: middle;\n",
       "    }\n",
       "\n",
       "    .dataframe tbody tr th {\n",
       "        vertical-align: top;\n",
       "    }\n",
       "\n",
       "    .dataframe thead th {\n",
       "        text-align: right;\n",
       "    }\n",
       "</style>\n",
       "<table border=\"1\" class=\"dataframe\">\n",
       "  <thead>\n",
       "    <tr style=\"text-align: right;\">\n",
       "      <th></th>\n",
       "      <th>rented_last_month</th>\n",
       "    </tr>\n",
       "  </thead>\n",
       "  <tbody>\n",
       "    <tr>\n",
       "      <th>0</th>\n",
       "      <td>False</td>\n",
       "    </tr>\n",
       "    <tr>\n",
       "      <th>1</th>\n",
       "      <td>True</td>\n",
       "    </tr>\n",
       "    <tr>\n",
       "      <th>2</th>\n",
       "      <td>False</td>\n",
       "    </tr>\n",
       "    <tr>\n",
       "      <th>3</th>\n",
       "      <td>False</td>\n",
       "    </tr>\n",
       "    <tr>\n",
       "      <th>4</th>\n",
       "      <td>False</td>\n",
       "    </tr>\n",
       "    <tr>\n",
       "      <th>...</th>\n",
       "      <td>...</td>\n",
       "    </tr>\n",
       "    <tr>\n",
       "      <th>1093</th>\n",
       "      <td>True</td>\n",
       "    </tr>\n",
       "    <tr>\n",
       "      <th>1094</th>\n",
       "      <td>True</td>\n",
       "    </tr>\n",
       "    <tr>\n",
       "      <th>1095</th>\n",
       "      <td>True</td>\n",
       "    </tr>\n",
       "    <tr>\n",
       "      <th>1096</th>\n",
       "      <td>True</td>\n",
       "    </tr>\n",
       "    <tr>\n",
       "      <th>1097</th>\n",
       "      <td>True</td>\n",
       "    </tr>\n",
       "  </tbody>\n",
       "</table>\n",
       "<p>1098 rows × 1 columns</p>\n",
       "</div>"
      ],
      "text/plain": [
       "      rented_last_month\n",
       "0                 False\n",
       "1                  True\n",
       "2                 False\n",
       "3                 False\n",
       "4                 False\n",
       "...                 ...\n",
       "1093               True\n",
       "1094               True\n",
       "1095               True\n",
       "1096               True\n",
       "1097               True\n",
       "\n",
       "[1098 rows x 1 columns]"
      ]
     },
     "execution_count": 53,
     "metadata": {},
     "output_type": "execute_result"
    }
   ],
   "source": [
    "os_data_y"
   ]
  },
  {
   "cell_type": "code",
   "execution_count": 54,
   "id": "35a6f876",
   "metadata": {},
   "outputs": [
    {
     "data": {
      "text/plain": [
       "0       False\n",
       "1        True\n",
       "2       False\n",
       "3       False\n",
       "4       False\n",
       "        ...  \n",
       "1093     True\n",
       "1094     True\n",
       "1095     True\n",
       "1096     True\n",
       "1097     True\n",
       "Name: rented_last_month, Length: 1098, dtype: bool"
      ]
     },
     "execution_count": 54,
     "metadata": {},
     "output_type": "execute_result"
    }
   ],
   "source": [
    "yf = os_data_y['rented_last_month']\n",
    "yf"
   ]
  },
  {
   "cell_type": "code",
   "execution_count": 55,
   "id": "a349e73b",
   "metadata": {},
   "outputs": [],
   "source": [
    "# Running the model with the SMOTEd data\n",
    "Xf_train, Xf_test, yf_train, yf_test = train_test_split(os_data_X, yf, test_size=0.3, random_state=100)\n",
    "logreg = LogisticRegression(random_state=0, multi_class='auto').fit(Xf_train, yf_train)\n",
    "yf_pred_class = logreg.predict(Xf_test)"
   ]
  },
  {
   "cell_type": "code",
   "execution_count": 56,
   "id": "89f3240e",
   "metadata": {},
   "outputs": [
    {
     "data": {
      "text/plain": [
       "False    190\n",
       "True     140\n",
       "dtype: int64"
      ]
     },
     "execution_count": 56,
     "metadata": {},
     "output_type": "execute_result"
    }
   ],
   "source": [
    "pd.Series(yf_pred_class).value_counts()"
   ]
  },
  {
   "cell_type": "code",
   "execution_count": 57,
   "id": "81fd0a06",
   "metadata": {},
   "outputs": [
    {
     "data": {
      "text/plain": [
       "False    549\n",
       "True     549\n",
       "Name: rented_last_month, dtype: int64"
      ]
     },
     "execution_count": 57,
     "metadata": {},
     "output_type": "execute_result"
    }
   ],
   "source": [
    "yf.value_counts()"
   ]
  },
  {
   "cell_type": "code",
   "execution_count": 58,
   "id": "fd9ac0bc",
   "metadata": {},
   "outputs": [
    {
     "data": {
      "text/plain": [
       "array([[147,  18],\n",
       "       [ 43, 122]], dtype=int64)"
      ]
     },
     "execution_count": 58,
     "metadata": {},
     "output_type": "execute_result"
    }
   ],
   "source": [
    "confusion_matrix(yf_test, yf_pred_class)"
   ]
  },
  {
   "cell_type": "code",
   "execution_count": 59,
   "id": "f86ee44a",
   "metadata": {},
   "outputs": [],
   "source": [
    "confusion_f = confusion_matrix(yf_test, yf_pred_class)\n",
    "TP = confusion_f[1, 1]\n",
    "TN = confusion_f[0, 0]\n",
    "FP = confusion_f[0, 1]\n",
    "FN = confusion_f[1, 0]"
   ]
  },
  {
   "cell_type": "code",
   "execution_count": 60,
   "id": "1caeacce",
   "metadata": {},
   "outputs": [
    {
     "name": "stdout",
     "output_type": "stream",
     "text": [
      "0.8151515151515152\n",
      "0.8151515151515152\n"
     ]
    }
   ],
   "source": [
    "print((TP + TN) / float(TP + TN + FP + FN))\n",
    "print(metrics.accuracy_score(yf_test, yf_pred_class))"
   ]
  },
  {
   "cell_type": "code",
   "execution_count": 61,
   "id": "cf2dd890",
   "metadata": {},
   "outputs": [
    {
     "name": "stdout",
     "output_type": "stream",
     "text": [
      "0.7393939393939394\n",
      "0.7393939393939394\n"
     ]
    }
   ],
   "source": [
    "sensitivity_f = TP / float(FN + TP)\n",
    "\n",
    "print(sensitivity_f)\n",
    "print(metrics.recall_score(yf_test, yf_pred_class))"
   ]
  },
  {
   "cell_type": "code",
   "execution_count": 62,
   "id": "67f209e9",
   "metadata": {},
   "outputs": [
    {
     "name": "stdout",
     "output_type": "stream",
     "text": [
      "0.2606060606060606\n",
      "0.2606060606060606\n"
     ]
    }
   ],
   "source": [
    "false_negative_rate_f = FN / float( FN + TP)\n",
    "\n",
    "print(false_negative_rate_f)\n",
    "print(1 - sensitivity_f)"
   ]
  },
  {
   "cell_type": "code",
   "execution_count": 63,
   "id": "9141c555",
   "metadata": {},
   "outputs": [
    {
     "name": "stdout",
     "output_type": "stream",
     "text": [
      "0.8909090909090909\n"
     ]
    }
   ],
   "source": [
    "specificity_f = TN / (TN + FP)\n",
    "\n",
    "print(specificity_f)"
   ]
  },
  {
   "cell_type": "code",
   "execution_count": 64,
   "id": "412f2caa",
   "metadata": {},
   "outputs": [
    {
     "name": "stdout",
     "output_type": "stream",
     "text": [
      "0.10909090909090909\n",
      "0.10909090909090913\n"
     ]
    }
   ],
   "source": [
    "false_positive_rate_f = FP / float(TN + FP)\n",
    "\n",
    "print(false_positive_rate_f)\n",
    "print(1 - specificity_f)"
   ]
  },
  {
   "cell_type": "code",
   "execution_count": 65,
   "id": "21b9d799",
   "metadata": {},
   "outputs": [
    {
     "name": "stderr",
     "output_type": "stream",
     "text": [
      "C:\\Users\\camil\\AppData\\Local\\Temp/ipykernel_9108/1749283728.py:3: UserWarning: FixedFormatter should only be used together with FixedLocator\n",
      "  plt.subplot().xaxis.set_ticklabels([\"1\",\"0\"])\n",
      "C:\\Users\\camil\\AppData\\Local\\Temp/ipykernel_9108/1749283728.py:4: UserWarning: FixedFormatter should only be used together with FixedLocator\n",
      "  plt.subplot().yaxis.set_ticklabels([\"1\",\"0\"])\n"
     ]
    },
    {
     "data": {
      "text/plain": [
       "[Text(0, 0.0, '1'),\n",
       " Text(0, 0.2, '0'),\n",
       " Text(0, 0.4, ''),\n",
       " Text(0, 0.6000000000000001, ''),\n",
       " Text(0, 0.8, ''),\n",
       " Text(0, 1.0, '')]"
      ]
     },
     "execution_count": 65,
     "metadata": {},
     "output_type": "execute_result"
    },
    {
     "data": {
      "image/png": "[encoded data removed]",
      "text/plain": [
       "<Figure size 432x288 with 1 Axes>"
      ]
     },
     "metadata": {
      "needs_background": "light"
     },
     "output_type": "display_data"
    }
   ],
   "source": [
    "cm_f = confusion_matrix(yf_test, yf_pred_class)\n",
    "sns.heatmap(cm_f, annot=True,fmt='g')\n",
    "plt.subplot().xaxis.set_ticklabels([\"1\",\"0\"])\n",
    "plt.subplot().yaxis.set_ticklabels([\"1\",\"0\"])"
   ]
  },
  {
   "cell_type": "code",
   "execution_count": 66,
   "id": "ea72428d",
   "metadata": {},
   "outputs": [
    {
     "data": {
      "text/plain": [
       "0.8151515151515152"
      ]
     },
     "execution_count": 66,
     "metadata": {},
     "output_type": "execute_result"
    }
   ],
   "source": [
    "# Accuracy\n",
    "logreg.score(Xf_test, yf_test)"
   ]
  },
  {
   "cell_type": "code",
   "execution_count": 67,
   "id": "699fa234",
   "metadata": {},
   "outputs": [
    {
     "data": {
      "text/plain": [
       "[<matplotlib.lines.Line2D at 0x19161ce3ac0>]"
      ]
     },
     "execution_count": 67,
     "metadata": {},
     "output_type": "execute_result"
    },
    {
     "data": {
      "image/png": "[encoded data removed]",
      "text/plain": [
       "<Figure size 432x288 with 1 Axes>"
      ]
     },
     "metadata": {
      "needs_background": "light"
     },
     "output_type": "display_data"
    }
   ],
   "source": [
    "yf_pred_proba = logreg.predict_proba(Xf_test)[::,1]\n",
    "fpr_f, tpr_f, _ = metrics.roc_curve(yf_test, yf_pred_proba)\n",
    "auc_f = metrics.roc_auc_score(yf_test, yf_pred_proba)\n",
    "plt.plot(fpr_f,tpr_f)"
   ]
  },
  {
   "cell_type": "code",
   "execution_count": null,
   "id": "cf59bc48",
   "metadata": {},
   "outputs": [],
   "source": []
  }
 ],
 "metadata": {
  "kernelspec": {
   "display_name": "Python 3 (ipykernel)",
   "language": "python",
   "name": "python3"
  },
  "language_info": {
   "codemirror_mode": {
    "name": "ipython",
    "version": 3
   },
   "file_extension": ".py",
   "mimetype": "text/x-python",
   "name": "python",
   "nbconvert_exporter": "python",
   "pygments_lexer": "ipython3",
   "version": "3.9.7"
  }
 },
 "nbformat": 4,
 "nbformat_minor": 5
}
